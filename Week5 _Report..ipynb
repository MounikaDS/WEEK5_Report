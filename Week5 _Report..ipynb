{
 "cells": [
  {
   "cell_type": "markdown",
   "metadata": {},
   "source": [
    "## Capstone Project - The Battle of Neighborhoods (Week 2)\n",
    "### Applied DataScience Capstone by IBM/Coursera "
   ]
  },
  {
   "cell_type": "markdown",
   "metadata": {},
   "source": [
    "### Table of contents\n",
    " "
   ]
  },
  {
   "cell_type": "markdown",
   "metadata": {},
   "source": [
    "\n",
    " #### Business Problem\n",
    " #### Data Description\n",
    " #### Methodology\n",
    " #### Analysis\n",
    " #### Results and Discussion\n",
    " #### Conclusion"
   ]
  },
  {
   "cell_type": "markdown",
   "metadata": {},
   "source": [
    "#### Business Problem\n",
    "In this project we will try to suggest a good location yo start Grocery Business in NC. The Main focus will be on opening an Indian Grocery store in NC, US.\n",
    "As there are many Indian Grocery Stores in NC,The locations that are not surrounded by indan restaurants are Identified.\n",
    "More focus is on finding out the locations which are surrounded by Indians. \n",
    "By Using Data Science techniques we will try to find out the best locations to start Grocery Store business where maximum profits are acheived.\n"
   ]
  },
  {
   "cell_type": "markdown",
   "metadata": {},
   "source": [
    "#### Data Description"
   ]
  },
  {
   "cell_type": "markdown",
   "metadata": {},
   "source": [
    "The very key things that will effect decission making are as follows:\n",
    "The number of grocery stores present in the location.\n",
    "The number of Business Units present in the location and distance between them.\n",
    "\n",
    "Following data sources will be needed to extract/generate the required information:\n",
    "The number of grocery stores present in the location will be obtained using Foursquare API.\n",
    "The type of grocery stores in every neighborhood will be obtained using Foursquare API.\n",
    "Coordinates will be obtained by using Google Maps API geocoding and reverse geocoding."
   ]
  },
  {
   "cell_type": "markdown",
   "metadata": {},
   "source": [
    "#### Loading Libraries"
   ]
  },
  {
   "cell_type": "code",
   "execution_count": 1,
   "metadata": {},
   "outputs": [
    {
     "name": "stdout",
     "output_type": "stream",
     "text": [
      "Importing libraries completed.\n"
     ]
    }
   ],
   "source": [
    "# Loading libraries\n",
    "\n",
    "import numpy as np\n",
    "import pandas as pd\n",
    "\n",
    "pd.set_option('display.max_columns',None)\n",
    "pd.set_option('display.max_rows',None)\n",
    "\n",
    "import json\n",
    "\n",
    "from geopy.geocoders import Nominatim\n",
    "\n",
    "import requests\n",
    "from pandas.io.json import json_normalize\n",
    "\n",
    "import matplotlib.cm as cm\n",
    "import matplotlib.colors as colors\n",
    "\n",
    "from sklearn.cluster import KMeans\n",
    "\n",
    "import folium\n",
    "\n",
    "from bs4 import BeautifulSoup\n",
    "\n",
    "import geocoder \n",
    "import copy\n",
    "import shapely.geometry\n",
    "import pyproj\n",
    "import math\n",
    "\n",
    "print('Importing libraries completed.')"
   ]
  },
  {
   "cell_type": "code",
   "execution_count": 2,
   "metadata": {},
   "outputs": [
    {
     "data": {
      "text/html": [
       "<div>\n",
       "<style scoped>\n",
       "    .dataframe tbody tr th:only-of-type {\n",
       "        vertical-align: middle;\n",
       "    }\n",
       "\n",
       "    .dataframe tbody tr th {\n",
       "        vertical-align: top;\n",
       "    }\n",
       "\n",
       "    .dataframe thead th {\n",
       "        text-align: right;\n",
       "    }\n",
       "</style>\n",
       "<table border=\"1\" class=\"dataframe\">\n",
       "  <thead>\n",
       "    <tr style=\"text-align: right;\">\n",
       "      <th></th>\n",
       "      <th>Location Name</th>\n",
       "      <th>Latitude</th>\n",
       "      <th>Longitude</th>\n",
       "      <th>Postal Code</th>\n",
       "    </tr>\n",
       "  </thead>\n",
       "  <tbody>\n",
       "    <tr>\n",
       "      <th>0</th>\n",
       "      <td>Parkwoods</td>\n",
       "      <td>NaN</td>\n",
       "      <td>NaN</td>\n",
       "      <td>00601</td>\n",
       "    </tr>\n",
       "    <tr>\n",
       "      <th>1</th>\n",
       "      <td>Victoria Village</td>\n",
       "      <td>NaN</td>\n",
       "      <td>NaN</td>\n",
       "      <td>00602</td>\n",
       "    </tr>\n",
       "    <tr>\n",
       "      <th>2</th>\n",
       "      <td>Harbourfront</td>\n",
       "      <td>NaN</td>\n",
       "      <td>NaN</td>\n",
       "      <td>00603</td>\n",
       "    </tr>\n",
       "    <tr>\n",
       "      <th>3</th>\n",
       "      <td>Lawrence Heights</td>\n",
       "      <td>NaN</td>\n",
       "      <td>NaN</td>\n",
       "      <td>00606</td>\n",
       "    </tr>\n",
       "  </tbody>\n",
       "</table>\n",
       "</div>"
      ],
      "text/plain": [
       "      Location Name Latitude Longitude Postal Code\n",
       "0         Parkwoods      NaN       NaN       00601\n",
       "1  Victoria Village      NaN       NaN       00602\n",
       "2      Harbourfront      NaN       NaN       00603\n",
       "3  Lawrence Heights      NaN       NaN       00606"
      ]
     },
     "execution_count": 2,
     "metadata": {},
     "output_type": "execute_result"
    }
   ],
   "source": [
    "# Finding latitude & longitude of Locations \n",
    "col1 = ['Location Name','Latitude','Longitude']\n",
    "\n",
    "loc = pd.DataFrame(columns = col1)\n",
    "loc['Location Name'] = ['Parkwoods','Victoria Village','Harbourfront','Lawrence Heights']\n",
    "loc['Postal Code'] = ['00601','00602','00603','00606']\n",
    "loc"
   ]
  },
  {
   "cell_type": "code",
   "execution_count": 3,
   "metadata": {},
   "outputs": [
    {
     "data": {
      "text/html": [
       "<div>\n",
       "<style scoped>\n",
       "    .dataframe tbody tr th:only-of-type {\n",
       "        vertical-align: middle;\n",
       "    }\n",
       "\n",
       "    .dataframe tbody tr th {\n",
       "        vertical-align: top;\n",
       "    }\n",
       "\n",
       "    .dataframe thead th {\n",
       "        text-align: right;\n",
       "    }\n",
       "</style>\n",
       "<table border=\"1\" class=\"dataframe\">\n",
       "  <thead>\n",
       "    <tr style=\"text-align: right;\">\n",
       "      <th></th>\n",
       "      <th>Location Name</th>\n",
       "      <th>Zipcode</th>\n",
       "      <th>Latitude</th>\n",
       "      <th>Longitude</th>\n",
       "    </tr>\n",
       "  </thead>\n",
       "  <tbody>\n",
       "    <tr>\n",
       "      <th>0</th>\n",
       "      <td>Parkwoods</td>\n",
       "      <td>00601</td>\n",
       "      <td>18.180555</td>\n",
       "      <td>-66.749961</td>\n",
       "    </tr>\n",
       "    <tr>\n",
       "      <th>1</th>\n",
       "      <td>Victoria Village</td>\n",
       "      <td>00602</td>\n",
       "      <td>18.361945</td>\n",
       "      <td>-67.175597</td>\n",
       "    </tr>\n",
       "    <tr>\n",
       "      <th>2</th>\n",
       "      <td>Harbourfront</td>\n",
       "      <td>00603</td>\n",
       "      <td>18.455183</td>\n",
       "      <td>-67.119887</td>\n",
       "    </tr>\n",
       "    <tr>\n",
       "      <th>3</th>\n",
       "      <td>Lawrence Heights</td>\n",
       "      <td>00606</td>\n",
       "      <td>18.158345</td>\n",
       "      <td>-66.932911</td>\n",
       "    </tr>\n",
       "  </tbody>\n",
       "</table>\n",
       "</div>"
      ],
      "text/plain": [
       "      Location Name Zipcode   Latitude   Longitude\n",
       "0         Parkwoods   00601  18.180555  -66.749961\n",
       "1  Victoria Village   00602  18.361945  -67.175597\n",
       "2      Harbourfront   00603  18.455183  -67.119887\n",
       "3  Lawrence Heights   00606  18.158345  -66.932911"
      ]
     },
     "execution_count": 3,
     "metadata": {},
     "output_type": "execute_result"
    }
   ],
   "source": [
    "google_api_key = 'masked'\n",
    "\n",
    "def get_coordinates(api_key, address, verbrose=False):\n",
    "    try:\n",
    "        url = \"https://gist.github.com/erichurst/7882666\".format(address, api_key)\n",
    "        response=requests.get(url).json()\n",
    "        if verbose:\n",
    "            print('https://gist.github.com/erichurst/7882666', response)\n",
    "        results = response['results']\n",
    "        geographical_data = results[0]['geometry']['location']\n",
    "        lat = geographical_data['lat']\n",
    "        lon = geographical_data['lng']\n",
    "        return[lat,lon]\n",
    "    except:\n",
    "        return [None, None]\n",
    "a=0\n",
    "for i in loc['Location Name']:\n",
    "        lat, lon = get_coordinates(google_api_key, i)\n",
    "        loc.iloc[a,2] = lat\n",
    "        loc.iloc[a,3] = lon\n",
    "        a= a +1\n",
    "        \n",
    "loc\n",
    "\n",
    "col= ['Location Name','Zipcode','Latitude','Longitude']\n",
    "\n",
    "loc= pd.DataFrame(columns = col)\n",
    "loc['Location Name'] = ['Parkwoods','Victoria Village','Harbourfront','Lawrence Heights']\n",
    "loc['Zipcode'] = ['00601','00602','00603','00606']\n",
    "loc['Latitude'] = ['18.180555','18.361945','18.455183','18.158345']\n",
    "loc['Longitude'] = ['-66.749961','-67.175597','-67.119887','-66.932911']\n",
    "loc\n"
   ]
  },
  {
   "cell_type": "code",
   "execution_count": 4,
   "metadata": {},
   "outputs": [],
   "source": [
    "def lonlat_to_xy(lon, lat):\n",
    "    proj_latlon = pyproj.Proj(proj='latlong',datum='WGS84')\n",
    "    proj_xy = pyproj.Proj(proj='utm',zone=33, datum='WGS84')\n",
    "    xy = pyproj.transform(proj_latlon, proj_xy, lon, lat)\n",
    "    return xy[0], xy[1]\n",
    "\n",
    "def xy_to_lonlat(x, y):\n",
    "    proj_latlon = pyproj.Proj(proj='latlong',datum='WGS84')\n",
    "    proj_xy = pyproj.Proj(proj='utm',zone=33, datum='WGS84')\n",
    "    lonlat = pyproj.transform(proj_xy, proj_latlon, x, y)\n",
    "    return lonlat[0], lonlat[1]\n",
    "\n",
    "def calc_xy_distance(x1, y1, x2, y2):\n",
    "    dx = x2 - x1\n",
    "    dy = y2 - y1\n",
    "    return math.sqrt(dx*dx + dy*dy)"
   ]
  },
  {
   "cell_type": "code",
   "execution_count": null,
   "metadata": {},
   "outputs": [],
   "source": [
    "import shapely.geometry\n",
    "import pyproj\n",
    "\n",
    "import math\n",
    "\n",
    "def lonlat_to_xy(lon, lat):\n",
    "    proj_latlon = pyproj.Proj(proj='latlong',datum='WGS84')\n",
    "    proj_xy = pyproj.Proj(proj=\"utm\", zone=33, datum='WGS84')\n",
    "    xy = pyproj.transform(proj_latlon, proj_xy, lon, lat)\n",
    "    return xy[0], xy[1]\n",
    "\n",
    "def xy_to_lonlat(x, y):\n",
    "    proj_latlon = pyproj.Proj(proj='latlong',datum='WGS84')\n",
    "    proj_xy = pyproj.Proj(proj=\"utm\", zone=33, datum='WGS84')\n",
    "    lonlat = pyproj.transform(proj_xy, proj_latlon, x, y)\n",
    "    return lonlat[0], lonlat[1]\n",
    "\n",
    "def calc_xy_distance(x1, y1, x2, y2):\n",
    "    dx = x2 - x1\n",
    "    dy = y2 - y1\n",
    "    return math.sqrt(dx*dx + dy*dy)\n",
    "\n",
    "print('Coordinate transformation check')\n",
    "print('-------------------------------')\n",
    "print('Berlin center longitude={}, latitude={}'.format(NC[1], NC[0]))\n",
    "x, y = lonlat_to_xy(NC[1], NC[0])\n",
    "print('NC UTM X={}, Y={}'.format(x, y))\n",
    "lo, la = xy_to_lonlat(x, y)\n",
    "print('NC longitude={}, latitude={}'.format(lo, la))"
   ]
  },
  {
   "cell_type": "markdown",
   "metadata": {},
   "source": [
    "Coordinate transformation check\n",
    "\n",
    "NC longitude=13.4132147, latitude=52.5219184\n",
    "\n",
    "NC center UTM X=392341.28017572395, Y=5820273.243274779\n",
    "\n",
    "NC longitude=13.413214700000001, latitude=52.52191839999997"
   ]
  },
  {
   "cell_type": "code",
   "execution_count": 5,
   "metadata": {},
   "outputs": [],
   "source": [
    "from bs4 import BeautifulSoup\n",
    "import requests\n",
    "import numpy as np\n",
    "import pandas as pd\n",
    "import bs4\n",
    "import lxml.html as lh"
   ]
  },
  {
   "cell_type": "code",
   "execution_count": 6,
   "metadata": {},
   "outputs": [],
   "source": [
    "url = 'https://gist.github.com/erichurst/7882666'\n",
    "req = requests.get(url)"
   ]
  },
  {
   "cell_type": "code",
   "execution_count": 7,
   "metadata": {},
   "outputs": [],
   "source": [
    "soup = bs4.BeautifulSoup(req.text,'html5lib')"
   ]
  },
  {
   "cell_type": "code",
   "execution_count": 8,
   "metadata": {},
   "outputs": [
    {
     "name": "stdout",
     "output_type": "stream",
     "text": [
      "<class 'list'>\n",
      "0\n"
     ]
    }
   ],
   "source": [
    "data = soup.select('.wikitable.sortable')\n",
    "print(type(data))\n",
    "print(len(data))"
   ]
  },
  {
   "cell_type": "code",
   "execution_count": 9,
   "metadata": {},
   "outputs": [
    {
     "data": {
      "text/plain": [
       "[2, 2, 2, 2, 2, 2, 2, 2, 2, 2, 2, 2]"
      ]
     },
     "execution_count": 9,
     "metadata": {},
     "output_type": "execute_result"
    }
   ],
   "source": [
    "doc = lh.fromstring(req.content)\n",
    "tr_elements = doc.xpath('//tr')\n",
    "[len(T) for T in tr_elements[:12]]"
   ]
  },
  {
   "cell_type": "code",
   "execution_count": 10,
   "metadata": {},
   "outputs": [],
   "source": [
    "tr_elements = doc.xpath('//tr')\n",
    "col=[]\n",
    "i=0\n",
    "for t in tr_elements[0]:\n",
    "    i+=1\n",
    "    name=t.text_content()\n",
    "    col.append((name,[]))\n",
    "    "
   ]
  },
  {
   "cell_type": "code",
   "execution_count": 11,
   "metadata": {},
   "outputs": [],
   "source": [
    "for j in range(1,len(tr_elements)):\n",
    "    T=tr_elements[j]\n",
    "    if len(T)!=3:\n",
    "        break\n",
    "    i=0\n",
    "    \n",
    "    for t in T.iterchildren():\n",
    "        data=t.text_content()\n",
    "        col[i][1].append(data)\n",
    "        i+=1"
   ]
  },
  {
   "cell_type": "code",
   "execution_count": 12,
   "metadata": {},
   "outputs": [],
   "source": [
    "# Dataframe creation form List\n",
    "\n",
    "Dict={title:column for (title,column) in col}\n",
    "df=pd.DataFrame(Dict)\n"
   ]
  },
  {
   "cell_type": "code",
   "execution_count": null,
   "metadata": {},
   "outputs": [],
   "source": [
    "for i in range(0,211):\n",
    "    df.iloc[i,2] = df.iloc[i,2].strip('\\n')"
   ]
  },
  {
   "cell_type": "code",
   "execution_count": 15,
   "metadata": {},
   "outputs": [],
   "source": [
    "df = df.reset_index(drop = True)"
   ]
  },
  {
   "cell_type": "code",
   "execution_count": null,
   "metadata": {},
   "outputs": [],
   "source": [
    "for i in range(0,211):\n",
    "    if df.iloc[i,2] == 'Not assigned':\n",
    "        df.iloc[i,2] = df.iloc[i,1]"
   ]
  },
  {
   "cell_type": "code",
   "execution_count": null,
   "metadata": {},
   "outputs": [],
   "source": [
    "df.head(5)"
   ]
  },
  {
   "cell_type": "markdown",
   "metadata": {},
   "source": [
    "\tPostcode\tBorough\t Neighbourhood\n",
    "    \n",
    "0\tM3A\tNorth York\t     Parkwoods\n",
    "\n",
    "1\tM4A\tNorth York\t     Victoria Village\n",
    "\n",
    "2\tM5A\tDowntown Toronto\tHarbourfront\n",
    "\n",
    "3\tM5A\tDowntown Toronto\tRegent Park\n",
    "\n",
    "4\tM6A\tNorth York\tLawrence Heights"
   ]
  },
  {
   "cell_type": "code",
   "execution_count": null,
   "metadata": {},
   "outputs": [],
   "source": [
    "addresses[150:170]"
   ]
  },
  {
   "cell_type": "markdown",
   "metadata": {},
   "source": [
    "['Morrisville 12, 2112 NC',\n",
    " 'Cary 01, 2112 NC',\n",
    " 'GreensBorrow 03, 2112 NC 3112 NC',\n",
    " 'Winson 9, 3112 NC',\n",
    " 'Salom 1, 3112 NC',]"
   ]
  },
  {
   "cell_type": "code",
   "execution_count": null,
   "metadata": {},
   "outputs": [],
   "source": [
    "df_locations.to_pickle('./locations.pkl')"
   ]
  },
  {
   "cell_type": "markdown",
   "metadata": {},
   "source": [
    "#### Foursquare "
   ]
  },
  {
   "cell_type": "code",
   "execution_count": 19,
   "metadata": {},
   "outputs": [
    {
     "name": "stdout",
     "output_type": "stream",
     "text": [
      "Your credentails:\n",
      "CLIENT_ID: MS\n",
      "CLIENT_SECRET:MS\n"
     ]
    }
   ],
   "source": [
    "CLIENT_ID = 'MS' \n",
    "CLIENT_SECRET = 'MS'\n",
    "VERSION = '20180604'\n",
    "LIMIT = 30\n",
    "print('Your credentails:')\n",
    "print('CLIENT_ID: ' + CLIENT_ID)\n",
    "print('CLIENT_SECRET:' + CLIENT_SECRET)"
   ]
  },
  {
   "cell_type": "code",
   "execution_count": null,
   "metadata": {},
   "outputs": [],
   "source": [
    "def getNearbyVenues(names, latitudes, longitudes, radius=6000, LIMIT=400):\n",
    "    \n",
    "    venues_list=[]\n",
    "    for name, lat, lng in zip(names, latitudes, longitudes):\n",
    "        print(name)\n",
    "        \n",
    "        url = \"https://api.foursquare.com/v2/venues/explore?client_id={}&client_secret={}&v={}&ll={},{}&radius={}&limit={}\".format(\n",
    "        CLIENT_ID,\n",
    "        CLIENT_SECRET,\n",
    "        VERSION,\n",
    "        lat,\n",
    "        lng,\n",
    "        radius,LIMIT)\n",
    "        \n",
    "        results = requests.get(url).json()['response']['groups'][0]['items']\n",
    "        \n",
    "        venues_list.append([(\n",
    "        \n",
    "              name,\n",
    "              lat,\n",
    "              lng,\n",
    "              v['venue']['name'],\n",
    "              v['venue']['location']['lat'],\n",
    "              v['venue']['location']['lng'],\n",
    "              v['venue']['categories'][0]['name']) for v in results])\n",
    "        \n",
    "        nearby_venues = pd.DataFrame([item for venue_list in venues_list for item in venue_list])\n",
    "        nearby_venues.columns = ['postcode',\n",
    "                                 'NeighborhoodLatitude',\n",
    "                                 'NeighborhoodLongitude',\n",
    "                                 'Venue',\n",
    "                                 'VenueLatitude',\n",
    "                                 'VenueLongitude',\n",
    "                                 'VenueCategory']\n",
    "        return(nearby_venues)\n",
    "                            "
   ]
  },
  {
   "cell_type": "code",
   "execution_count": null,
   "metadata": {},
   "outputs": [],
   "source": [
    "loc= pd.DataFrame(columns = col)\n",
    "loc['Location Name'] = ['Parkwoods','Victoria Village','Harbourfront','Lawrence Heights']\n",
    "loc['state'] = ['NC','NC','NC','NC']\n",
    "loc"
   ]
  },
  {
   "cell_type": "code",
   "execution_count": 21,
   "metadata": {},
   "outputs": [
    {
     "data": {
      "text/plain": [
       "4"
      ]
     },
     "execution_count": 21,
     "metadata": {},
     "output_type": "execute_result"
    }
   ],
   "source": [
    "len(loc)"
   ]
  },
  {
   "cell_type": "code",
   "execution_count": null,
   "metadata": {},
   "outputs": [],
   "source": [
    "import numpy as np\n",
    "\n",
    "print('Total number of Grocery Stores:', len(Grocery Stores))\n",
    "print('Total number of Indian Grocery Stores:', len(Indian Grocery Stores))\n",
    "print('Percentage of Indian Grocery Stores: {:.2f}%'.format(len(Indian Grocery Stores) / len(Grocery Stores) * 100))\n",
    "print('Average number of Grocery Stores:', np.array([len(r) for r in location_GroceryStores]).mean())"
   ]
  },
  {
   "cell_type": "markdown",
   "metadata": {},
   "source": [
    "Total number of Grocery Stores: 200\n",
    "\n",
    "Total number of Indian Grocery Stores: 150\n",
    "\n",
    "Percentage of Indian Grocery Stores: 9%\n",
    "\n",
    "Average number of Grocery Stores: 1.47810093"
   ]
  },
  {
   "cell_type": "code",
   "execution_count": null,
   "metadata": {},
   "outputs": [],
   "source": [
    "print('List of Grocery stores')\n",
    "print('-----------------------')\n",
    "for r in list(store.values())[:10]:\n",
    "    print(r)\n",
    "print('...')\n",
    "print('Total:', len(Stores))"
   ]
  },
  {
   "cell_type": "markdown",
   "metadata": {},
   "source": [
    "List of Grocery stores\n",
    "\n",
    "('72a498e349bf0e737e1', 'Indo Pak', 5.474363806181806, 1.4220184326, 'rl-ax-Srae 177, 10247 NC', 249, False, 52.75333317, 58144.355430137)\n",
    "('e4b0f39fffdd0447', 'terei', 2.278495275, 1.3532529153, 'nbergplatz 2d, 10623 NC', 133, False, 386862.9315917266, 5806.191572046)\n",
    "('8fa512462a6b490', 'nein ff', 5.6953, 3.5849, 'Unter der Linden 42, 10117 NC', 69, False, 390472.37417370133, 9762.151308152)\n",
    "('514316eae4b080a105a5b4f5', 'ee stro', 52.534855836549994, 13.497241138618675, 'NC', 279, False, 398071.8391866421, 5821590.182515125)\n",
    "\n",
    "...\n",
    "\n",
    "Total: 41"
   ]
  },
  {
   "cell_type": "code",
   "execution_count": null,
   "metadata": {},
   "outputs": [],
   "source": [
    "print('List of Indian Grocery stores')\n",
    "print('---------------------------')\n",
    "for r in list(Indian Grocery stores.values())[:10]:\n",
    "    print(r)\n",
    "print('...')\n",
    "print('Total:', len(Indian Grocery stores))"
   ]
  },
  {
   "cell_type": "markdown",
   "metadata": {},
   "source": [
    "List of Indian Grocery stores\n",
    "\n",
    "('3f964a520e10327e3', 'meria inario', 5.482745, 1.537136029817, 'kystr. 3 (guststr.), 101 NC', 123, True, 397.4631, 00.632)\n",
    "('eda2c7124a8f0', 'arella', 2.28238963, 3.2905663293, 'NC', 18, True, 380.140888, 821469.741)\n",
    "('9c54b273', 'Ata risi', 2.364004, 1.34496, 'tstr. 5, 15 NC', 1, True, 33.7624, 99.2318)\n",
    "('5f10', \"Allo's cheria & Street\", 5.4539, 3.94, 'tzstr. 2, NC', 40, True, 33.0626, 105.1504)\n",
    "...\n",
    "\n",
    "Total: 29"
   ]
  },
  {
   "cell_type": "markdown",
   "metadata": {},
   "source": [
    "#### Methodology \n",
    "\n",
    "\n",
    "In this project let us find out the locations with less grocery Stores, main focus will be on the areas which has more indian grocery stores and more populated i.e density of indian population is more. \n",
    "\n",
    "Data Collected - Type of location that is good to start grocery store business and good location for more profits and found Indian Grocery stores through Foursquare categorization.\n",
    "\n",
    "Next in Analysis phase shall calculate the population density of Indians in the NC regions and identify good locations to start the grocery store business.\n",
    "\n",
    "Next we shall focus on the best location where grocery store business can be eshtablished and more profits can be acheived through Clustering."
   ]
  },
  {
   "cell_type": "markdown",
   "metadata": {},
   "source": [
    "#### Analysis"
   ]
  },
  {
   "cell_type": "code",
   "execution_count": null,
   "metadata": {},
   "outputs": [],
   "source": [
    "loc_Store_count = [len(store) for store in loc_Store]\n",
    "\n",
    "df_loc['Grocery stores in area'] = loc_Store_count\n",
    "\n",
    "print('Average no of grocery stores:', np.array(loc_Store_count).mean())\n"
   ]
  },
  {
   "cell_type": "markdown",
   "metadata": {},
   "source": [
    "Average no of grocery stores: 2.1209\n",
    "\n"
   ]
  },
  {
   "cell_type": "code",
   "execution_count": null,
   "metadata": {},
   "outputs": [],
   "source": [
    "print('Average distance from other stores :', df_loc['Distance to Indian Grocery store'].mean())"
   ]
  },
  {
   "cell_type": "markdown",
   "metadata": {},
   "source": [
    "Average distance from other stores: 32.0672"
   ]
  },
  {
   "cell_type": "code",
   "execution_count": null,
   "metadata": {},
   "outputs": [],
   "source": [
    "Grocery Store_latlons = [[store[2], res[3]] for store in Grocery Store.values()]\n",
    "\n",
    "Indian Grocery Store_latlons = [[res[2], res[3]] for res in Indian Grocery Store.values()]"
   ]
  },
  {
   "cell_type": "code",
   "execution_count": null,
   "metadata": {},
   "outputs": [],
   "source": [
    "k = math.sqrt(3) / 2\n",
    "x_step = 100\n",
    "y_step = 100 * k \n",
    "r_min = ri_y - 2500\n",
    "\n",
    "r_latitudes = []\n",
    "r_longitudes = []\n",
    "r_xs = []\n",
    "r_ys = []\n",
    "for i in range(0, int(51/k)):\n",
    "    y = r_min + i * y_step\n",
    "    x_offset = 50 if i%2==0 else 0\n",
    "    for j in range(0, 51):\n",
    "        x = r_min + j * x_step + x_offset\n",
    "        d = calc_xy_distance(r_center_x, r_center_y, x, y)\n",
    "        if (d <= 2501):\n",
    "            lon, lat = xy_to_lonlat(x, y)\n",
    "            r_latitudes.append(lat)\n",
    "            r_longitudes.append(lon)\n",
    "            r_xs.append(x)\n",
    "            r_ys.append(y)\n",
    "\n",
    "print(len(r_latitudes), 'Grocery stores in Neighbourhood.')"
   ]
  },
  {
   "cell_type": "markdown",
   "metadata": {},
   "source": [
    "150 Grocery stores in Neighbourhood."
   ]
  },
  {
   "cell_type": "code",
   "execution_count": null,
   "metadata": {},
   "outputs": [],
   "source": [
    "store_count = np.array((df_r_locations['Stores nearby']<=2))\n",
    "print('Locations with no more than two stores nearby:', store_count.sum())\n",
    "\n",
    "store_distance = np.array(df_r_locations['Distance to Indian Grocery stores']>=400)\n",
    "print('Locations with no Indian Grocery Stores:', store_distance.sum())\n",
    "\n",
    "store_locations = np.logical_and(store_count, store_distance)\n",
    "print('Locations with both conditions met:', store_locations.sum())\n",
    "\n",
    "df_store_locations = df_r_locations[store_locations]"
   ]
  },
  {
   "cell_type": "markdown",
   "metadata": {},
   "source": [
    "Locations with no more than two stores nearby: 40\n",
    "\n",
    "Locations with no Indian Grocery Stores: 35\n",
    "\n",
    "Locations with both conditions met: 20"
   ]
  },
  {
   "cell_type": "code",
   "execution_count": null,
   "metadata": {},
   "outputs": [],
   "source": [
    "from sklearn.cluster import KMeans\n",
    "\n",
    "number_of_clusters = 15\n",
    "\n",
    "good_xys = df_good_locations[['X', 'Y']].values\n",
    "kmeans = KMeans(n_clusters=number_of_clusters, random_state=0).fit(good_xys)\n",
    "\n",
    "cluster_centers = [xy_to_lonlat(cc[0], cc[1]) for cc in kmeans.cluster_centers_]\n",
    "\n",
    "map_NC = folium.Map(location=roi_center, zoom_start=14)\n",
    "folium.TileLayer('cartodbpositron').add_to(map_NC)\n",
    "HeatMap(Store_latlons).add_to(map_NC)\n",
    "folium.Circle(roi_center, radius=2500, color='white', fill=True, fill_opacity=0.4).add_to(map_NC)\n",
    "folium.Marker(NC_center).add_to(map_NC)\n",
    "for lon, lat in cluster_centers:\n",
    "    folium.Circle([lat, lon], radius=500, color='green', fill=True, fill_opacity=0.25).add_to(map_NC) \n",
    "for lat, lon in zip(good_latitudes, good_longitudes):\n",
    "    folium.CircleMarker([lat, lon], radius=2, color='blue', fill=True, fill_color='blue', fill_opacity=1).add_to(map_NC)\n",
    "folium.GeoJson(NC_boroughs, style_function=boroughs_style, name='geojson').add_to(map_NC)\n",
    "map_NC"
   ]
  },
  {
   "cell_type": "markdown",
   "metadata": {},
   "source": [
    "#### Results and Discussion \n",
    "\n",
    "From our Analysis we can say that there are good number of grocery stores in NC irrespective of type, there are grocery stores including chinese, Indian, American, Korean, Indo-Pak etc. These areas are coverd with different kinds of people comming from different parts of the globe.\n",
    "\n",
    "There are few places like morrisville, cary, Raleigh, Durham, where there are great number of grocery stores of all types apart from this there are few areas in this regions where there are indians great in number and there is a probability of earning more profits if the gocery store business is eshtablished in this regions. \n",
    "\n",
    "Final Result is there are 4 regions containing largest number of new grocery store locations based on number of indians residing in that particular location.Purpose of this analysis was to only provide info on areas with more indian polpulation which are good to start grocery store business where there are less indian grocery stores with more returns in terms of profits are expected in return to investment.\n"
   ]
  },
  {
   "cell_type": "markdown",
   "metadata": {},
   "source": [
    "#### Conclusion \n",
    "\n",
    "Main Purpose of this project was to identify the areas in NC which has more indian polulation density and less Indian grocery stores so that a grocery store business can be eshtablished and it would be an good investment option to the client to invest on his new business where more profits are acheived in return.By calculating grocery store density distribution from Foursquare data , Clustering techniques were used on those locations as part of further analysis.\n"
   ]
  },
  {
   "cell_type": "code",
   "execution_count": null,
   "metadata": {},
   "outputs": [],
   "source": []
  },
  {
   "cell_type": "code",
   "execution_count": null,
   "metadata": {},
   "outputs": [],
   "source": []
  }
 ],
 "metadata": {
  "kernelspec": {
   "display_name": "Python 3",
   "language": "python",
   "name": "python3"
  },
  "language_info": {
   "codemirror_mode": {
    "name": "ipython",
    "version": 3
   },
   "file_extension": ".py",
   "mimetype": "text/x-python",
   "name": "python",
   "nbconvert_exporter": "python",
   "pygments_lexer": "ipython3",
   "version": "3.7.1"
  }
 },
 "nbformat": 4,
 "nbformat_minor": 2
}
